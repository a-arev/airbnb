{
 "cells": [
  {
   "cell_type": "markdown",
   "metadata": {},
   "source": [
    "Import libraries and packages"
   ]
  },
  {
   "cell_type": "code",
   "execution_count": 3,
   "metadata": {},
   "outputs": [],
   "source": [
    "import numpy as np\n",
    "import pandas as pd\n",
    "import matplotlib.pyplot as plt"
   ]
  },
  {
   "cell_type": "markdown",
   "metadata": {},
   "source": [
    "Import datasets"
   ]
  },
  {
   "cell_type": "code",
   "execution_count": 4,
   "metadata": {},
   "outputs": [
    {
     "data": {
      "text/plain": [
       "'c:\\\\Users\\\\aarev\\\\Documents\\\\airbnb'"
      ]
     },
     "execution_count": 4,
     "metadata": {},
     "output_type": "execute_result"
    }
   ],
   "source": [
    "import os\n",
    "os.getcwd()"
   ]
  },
  {
   "cell_type": "code",
   "execution_count": 5,
   "metadata": {},
   "outputs": [
    {
     "name": "stderr",
     "output_type": "stream",
     "text": [
      "C:\\Users\\aarev\\AppData\\Local\\Temp\\ipykernel_19224\\1869906130.py:1: FutureWarning: The argument 'date_parser' is deprecated and will be removed in a future version. Please use 'date_format' instead, or read your data in as 'object' dtype and then call 'to_datetime'.\n",
      "  df_contacts = pd.read_csv(\"data/contacts.csv\",\n"
     ]
    }
   ],
   "source": [
    "df_contacts = pd.read_csv(\"data/contacts.csv\", \n",
    "                          parse_dates=['ts_interaction_first', 'ts_reply_at_first', \n",
    "                                       'ts_accepted_at_first', 'ts_booking_at', \n",
    "                                       'ds_checkin_first', 'ds_checkout_first'],\n",
    "                          date_parser=pd.Timestamp)\n",
    "df_listings = pd.read_csv(\"data/listings.csv\")\n",
    "df_users = pd.read_csv(\"data/users.csv\")"
   ]
  },
  {
   "cell_type": "code",
   "execution_count": 6,
   "metadata": {},
   "outputs": [],
   "source": [
    "# remove rows with booking with zero guests\n",
    "df_contacts = df_contacts.loc[df_contacts.m_guests!=0]"
   ]
  },
  {
   "cell_type": "code",
   "execution_count": 7,
   "metadata": {},
   "outputs": [
    {
     "data": {
      "text/html": [
       "<div>\n",
       "<style scoped>\n",
       "    .dataframe tbody tr th:only-of-type {\n",
       "        vertical-align: middle;\n",
       "    }\n",
       "\n",
       "    .dataframe tbody tr th {\n",
       "        vertical-align: top;\n",
       "    }\n",
       "\n",
       "    .dataframe thead th {\n",
       "        text-align: right;\n",
       "    }\n",
       "</style>\n",
       "<table border=\"1\" class=\"dataframe\">\n",
       "  <thead>\n",
       "    <tr style=\"text-align: right;\">\n",
       "      <th></th>\n",
       "      <th>id_guest_anon</th>\n",
       "      <th>id_host_anon</th>\n",
       "      <th>id_listing_anon</th>\n",
       "      <th>ts_interaction_first</th>\n",
       "      <th>ts_reply_at_first</th>\n",
       "      <th>ts_accepted_at_first</th>\n",
       "      <th>ts_booking_at</th>\n",
       "      <th>ds_checkin_first</th>\n",
       "      <th>ds_checkout_first</th>\n",
       "      <th>m_guests</th>\n",
       "      <th>m_interactions</th>\n",
       "      <th>m_first_message_length_in_characters</th>\n",
       "      <th>contact_channel_first</th>\n",
       "      <th>guest_user_stage_first</th>\n",
       "    </tr>\n",
       "  </thead>\n",
       "  <tbody>\n",
       "    <tr>\n",
       "      <th>0</th>\n",
       "      <td>da8656a1-51af-4f38-b1c4-94be1f585157</td>\n",
       "      <td>5426897d-960d-4013-9e38-606ae746793c</td>\n",
       "      <td>a408a8b2-0d44-4513-a611-3736d0409bb2</td>\n",
       "      <td>2016-04-21 02:55:53</td>\n",
       "      <td>2016-04-21 03:15:00</td>\n",
       "      <td>2016-04-21 03:15:00</td>\n",
       "      <td>2016-04-21 03:15:00</td>\n",
       "      <td>2016-08-02</td>\n",
       "      <td>2016-08-06</td>\n",
       "      <td>4.0</td>\n",
       "      <td>30</td>\n",
       "      <td>31.0</td>\n",
       "      <td>book_it</td>\n",
       "      <td>past_booker</td>\n",
       "    </tr>\n",
       "    <tr>\n",
       "      <th>1</th>\n",
       "      <td>8590d6f1-8bc9-4e8b-bdfb-de78f69fcf37</td>\n",
       "      <td>f30417c5-6df4-45ac-bfc2-6ad1cce398ab</td>\n",
       "      <td>e387c705-0aeb-464c-9375-ece63be6f006</td>\n",
       "      <td>2016-02-16 22:14:01</td>\n",
       "      <td>2016-02-16 23:37:36</td>\n",
       "      <td>NaT</td>\n",
       "      <td>NaT</td>\n",
       "      <td>2016-08-11</td>\n",
       "      <td>2016-08-22</td>\n",
       "      <td>5.0</td>\n",
       "      <td>2</td>\n",
       "      <td>312.0</td>\n",
       "      <td>contact_me</td>\n",
       "      <td>past_booker</td>\n",
       "    </tr>\n",
       "    <tr>\n",
       "      <th>2</th>\n",
       "      <td>ebcd83ba-bda1-47eb-9680-2dd04ccf3988</td>\n",
       "      <td>13cbf50a-3272-45d4-9866-a06b6ea1b99a</td>\n",
       "      <td>d1eb1960-938f-4305-a353-51e224414dd4</td>\n",
       "      <td>2016-01-27 23:33:38</td>\n",
       "      <td>2016-01-28 02:12:47</td>\n",
       "      <td>NaT</td>\n",
       "      <td>NaT</td>\n",
       "      <td>2016-03-14</td>\n",
       "      <td>2016-03-23</td>\n",
       "      <td>1.0</td>\n",
       "      <td>3</td>\n",
       "      <td>164.0</td>\n",
       "      <td>contact_me</td>\n",
       "      <td>new</td>\n",
       "    </tr>\n",
       "  </tbody>\n",
       "</table>\n",
       "</div>"
      ],
      "text/plain": [
       "                          id_guest_anon                          id_host_anon  \\\n",
       "0  da8656a1-51af-4f38-b1c4-94be1f585157  5426897d-960d-4013-9e38-606ae746793c   \n",
       "1  8590d6f1-8bc9-4e8b-bdfb-de78f69fcf37  f30417c5-6df4-45ac-bfc2-6ad1cce398ab   \n",
       "2  ebcd83ba-bda1-47eb-9680-2dd04ccf3988  13cbf50a-3272-45d4-9866-a06b6ea1b99a   \n",
       "\n",
       "                        id_listing_anon ts_interaction_first  \\\n",
       "0  a408a8b2-0d44-4513-a611-3736d0409bb2  2016-04-21 02:55:53   \n",
       "1  e387c705-0aeb-464c-9375-ece63be6f006  2016-02-16 22:14:01   \n",
       "2  d1eb1960-938f-4305-a353-51e224414dd4  2016-01-27 23:33:38   \n",
       "\n",
       "    ts_reply_at_first ts_accepted_at_first       ts_booking_at  \\\n",
       "0 2016-04-21 03:15:00  2016-04-21 03:15:00 2016-04-21 03:15:00   \n",
       "1 2016-02-16 23:37:36                  NaT                 NaT   \n",
       "2 2016-01-28 02:12:47                  NaT                 NaT   \n",
       "\n",
       "  ds_checkin_first ds_checkout_first  m_guests  m_interactions  \\\n",
       "0       2016-08-02        2016-08-06       4.0              30   \n",
       "1       2016-08-11        2016-08-22       5.0               2   \n",
       "2       2016-03-14        2016-03-23       1.0               3   \n",
       "\n",
       "   m_first_message_length_in_characters contact_channel_first  \\\n",
       "0                                  31.0               book_it   \n",
       "1                                 312.0            contact_me   \n",
       "2                                 164.0            contact_me   \n",
       "\n",
       "  guest_user_stage_first  \n",
       "0            past_booker  \n",
       "1            past_booker  \n",
       "2                    new  "
      ]
     },
     "metadata": {},
     "output_type": "display_data"
    }
   ],
   "source": [
    "display(df_contacts.head(3))"
   ]
  },
  {
   "cell_type": "code",
   "execution_count": 8,
   "metadata": {},
   "outputs": [
    {
     "data": {
      "text/html": [
       "<div>\n",
       "<style scoped>\n",
       "    .dataframe tbody tr th:only-of-type {\n",
       "        vertical-align: middle;\n",
       "    }\n",
       "\n",
       "    .dataframe tbody tr th {\n",
       "        vertical-align: top;\n",
       "    }\n",
       "\n",
       "    .dataframe thead th {\n",
       "        text-align: right;\n",
       "    }\n",
       "</style>\n",
       "<table border=\"1\" class=\"dataframe\">\n",
       "  <thead>\n",
       "    <tr style=\"text-align: right;\">\n",
       "      <th></th>\n",
       "      <th>id_listing_anon</th>\n",
       "      <th>room_type</th>\n",
       "      <th>listing_neighborhood</th>\n",
       "      <th>total_reviews</th>\n",
       "    </tr>\n",
       "  </thead>\n",
       "  <tbody>\n",
       "    <tr>\n",
       "      <th>0</th>\n",
       "      <td>71582793-e5f8-46d7-afdf-7a31d2341c79</td>\n",
       "      <td>Private room</td>\n",
       "      <td>-unknown-</td>\n",
       "      <td>0.0</td>\n",
       "    </tr>\n",
       "    <tr>\n",
       "      <th>1</th>\n",
       "      <td>a1a3f728-e21f-4432-96aa-361d28e2b319</td>\n",
       "      <td>Entire home/apt</td>\n",
       "      <td>Copacabana</td>\n",
       "      <td>0.0</td>\n",
       "    </tr>\n",
       "    <tr>\n",
       "      <th>2</th>\n",
       "      <td>353a68be-ecf9-4b7b-9533-c882dc2f0760</td>\n",
       "      <td>Entire home/apt</td>\n",
       "      <td>Barra da Tijuca</td>\n",
       "      <td>3.0</td>\n",
       "    </tr>\n",
       "  </tbody>\n",
       "</table>\n",
       "</div>"
      ],
      "text/plain": [
       "                        id_listing_anon        room_type listing_neighborhood  \\\n",
       "0  71582793-e5f8-46d7-afdf-7a31d2341c79     Private room            -unknown-   \n",
       "1  a1a3f728-e21f-4432-96aa-361d28e2b319  Entire home/apt           Copacabana   \n",
       "2  353a68be-ecf9-4b7b-9533-c882dc2f0760  Entire home/apt      Barra da Tijuca   \n",
       "\n",
       "   total_reviews  \n",
       "0            0.0  \n",
       "1            0.0  \n",
       "2            3.0  "
      ]
     },
     "metadata": {},
     "output_type": "display_data"
    }
   ],
   "source": [
    "display(df_listings.head(3))"
   ]
  },
  {
   "cell_type": "code",
   "execution_count": 9,
   "metadata": {},
   "outputs": [
    {
     "data": {
      "text/html": [
       "<div>\n",
       "<style scoped>\n",
       "    .dataframe tbody tr th:only-of-type {\n",
       "        vertical-align: middle;\n",
       "    }\n",
       "\n",
       "    .dataframe tbody tr th {\n",
       "        vertical-align: top;\n",
       "    }\n",
       "\n",
       "    .dataframe thead th {\n",
       "        text-align: right;\n",
       "    }\n",
       "</style>\n",
       "<table border=\"1\" class=\"dataframe\">\n",
       "  <thead>\n",
       "    <tr style=\"text-align: right;\">\n",
       "      <th></th>\n",
       "      <th>id_user_anon</th>\n",
       "      <th>country</th>\n",
       "      <th>words_in_user_profile</th>\n",
       "    </tr>\n",
       "  </thead>\n",
       "  <tbody>\n",
       "    <tr>\n",
       "      <th>0</th>\n",
       "      <td>1d16a001-31a2-494c-a101-1f7b308adc62</td>\n",
       "      <td>FR</td>\n",
       "      <td>0</td>\n",
       "    </tr>\n",
       "    <tr>\n",
       "      <th>1</th>\n",
       "      <td>42607e0a-86c0-472e-b633-9e192114e93c</td>\n",
       "      <td>AR</td>\n",
       "      <td>0</td>\n",
       "    </tr>\n",
       "    <tr>\n",
       "      <th>2</th>\n",
       "      <td>25f85eb5-a700-44e1-b142-4c076222198d</td>\n",
       "      <td>BR</td>\n",
       "      <td>0</td>\n",
       "    </tr>\n",
       "  </tbody>\n",
       "</table>\n",
       "</div>"
      ],
      "text/plain": [
       "                           id_user_anon country  words_in_user_profile\n",
       "0  1d16a001-31a2-494c-a101-1f7b308adc62      FR                      0\n",
       "1  42607e0a-86c0-472e-b633-9e192114e93c      AR                      0\n",
       "2  25f85eb5-a700-44e1-b142-4c076222198d      BR                      0"
      ]
     },
     "metadata": {},
     "output_type": "display_data"
    }
   ],
   "source": [
    "display(df_users.head(3))"
   ]
  },
  {
   "cell_type": "markdown",
   "metadata": {},
   "source": [
    "Join the 3 Dfs into one"
   ]
  },
  {
   "cell_type": "code",
   "execution_count": 10,
   "metadata": {},
   "outputs": [],
   "source": [
    "# merge contacts and listings dfs\n",
    "df_temp1 = pd.merge(df_contacts, df_listings, on='id_listing_anon')"
   ]
  },
  {
   "cell_type": "code",
   "execution_count": 11,
   "metadata": {},
   "outputs": [],
   "source": [
    "# merge guest info into df \n",
    "df_temp2 = pd.merge(df_temp1, df_users, \n",
    "                    left_on='id_guest_anon', \n",
    "                    right_on='id_user_anon', \n",
    "                    how='left')\n",
    "\n",
    "# rename columns with 'guest' prefix\n",
    "df_temp2 = df_temp2.rename(columns={'country': 'guest_country', \n",
    "                                    'words_in_user_profile': 'guest_words_in_user_profile'})\n",
    "\n",
    "# drop user id\n",
    "df_temp2.drop('id_user_anon', \n",
    "              axis=1, \n",
    "              inplace=True)"
   ]
  },
  {
   "cell_type": "code",
   "execution_count": 12,
   "metadata": {},
   "outputs": [],
   "source": [
    "# merge host info into df \n",
    "df_temp3 = pd.merge(df_temp2, df_users, \n",
    "                    left_on='id_host_anon', \n",
    "                    right_on='id_user_anon', \n",
    "                    how='left')\n",
    "\n",
    "# rename columns with 'host' prefix\n",
    "df_temp3 = df_temp3.rename(columns={'country': 'host_country', \n",
    "                                    'words_in_user_profile': 'host_words_in_user_profile'})\n",
    "\n",
    "# drop user id\n",
    "df_temp3.drop('id_user_anon', \n",
    "              axis=1, \n",
    "              inplace=True)"
   ]
  },
  {
   "cell_type": "code",
   "execution_count": null,
   "metadata": {},
   "outputs": [],
   "source": []
  },
  {
   "cell_type": "code",
   "execution_count": 13,
   "metadata": {},
   "outputs": [
    {
     "data": {
      "text/html": [
       "<div>\n",
       "<style scoped>\n",
       "    .dataframe tbody tr th:only-of-type {\n",
       "        vertical-align: middle;\n",
       "    }\n",
       "\n",
       "    .dataframe tbody tr th {\n",
       "        vertical-align: top;\n",
       "    }\n",
       "\n",
       "    .dataframe thead th {\n",
       "        text-align: right;\n",
       "    }\n",
       "</style>\n",
       "<table border=\"1\" class=\"dataframe\">\n",
       "  <thead>\n",
       "    <tr style=\"text-align: right;\">\n",
       "      <th></th>\n",
       "      <th>ts_interaction_first</th>\n",
       "      <th>ts_reply_at_first</th>\n",
       "      <th>ts_accepted_at_first</th>\n",
       "      <th>ts_booking_at</th>\n",
       "      <th>ds_checkin_first</th>\n",
       "      <th>ds_checkout_first</th>\n",
       "      <th>m_guests</th>\n",
       "      <th>m_interactions</th>\n",
       "      <th>m_first_message_length_in_characters</th>\n",
       "      <th>total_reviews</th>\n",
       "      <th>guest_words_in_user_profile</th>\n",
       "      <th>host_words_in_user_profile</th>\n",
       "    </tr>\n",
       "  </thead>\n",
       "  <tbody>\n",
       "    <tr>\n",
       "      <th>count</th>\n",
       "      <td>28468</td>\n",
       "      <td>26379</td>\n",
       "      <td>16667</td>\n",
       "      <td>11738</td>\n",
       "      <td>28468</td>\n",
       "      <td>28468</td>\n",
       "      <td>28467.000000</td>\n",
       "      <td>28468.000000</td>\n",
       "      <td>28468.000000</td>\n",
       "      <td>28468.000000</td>\n",
       "      <td>28468.000000</td>\n",
       "      <td>28468.000000</td>\n",
       "    </tr>\n",
       "    <tr>\n",
       "      <th>mean</th>\n",
       "      <td>2016-03-23 01:29:44.049634560</td>\n",
       "      <td>2016-03-24 20:43:56.097956352</td>\n",
       "      <td>2016-03-30 13:03:26.720585472</td>\n",
       "      <td>2016-04-02 14:56:20.915914240</td>\n",
       "      <td>2016-05-31 13:20:46.873682688</td>\n",
       "      <td>2016-06-08 02:49:12.030349824</td>\n",
       "      <td>2.790354</td>\n",
       "      <td>8.226992</td>\n",
       "      <td>193.938457</td>\n",
       "      <td>15.536286</td>\n",
       "      <td>10.198363</td>\n",
       "      <td>54.912568</td>\n",
       "    </tr>\n",
       "    <tr>\n",
       "      <th>min</th>\n",
       "      <td>2016-01-01 00:46:47</td>\n",
       "      <td>2016-01-01 01:07:50</td>\n",
       "      <td>2016-01-01 12:24:15</td>\n",
       "      <td>2016-01-01 12:24:15</td>\n",
       "      <td>2016-01-01 00:00:00</td>\n",
       "      <td>2016-01-02 00:00:00</td>\n",
       "      <td>1.000000</td>\n",
       "      <td>1.000000</td>\n",
       "      <td>0.000000</td>\n",
       "      <td>-34.000000</td>\n",
       "      <td>0.000000</td>\n",
       "      <td>0.000000</td>\n",
       "    </tr>\n",
       "    <tr>\n",
       "      <th>25%</th>\n",
       "      <td>2016-01-27 20:35:55.249999872</td>\n",
       "      <td>2016-01-29 14:17:11.500000</td>\n",
       "      <td>2016-02-08 12:11:15</td>\n",
       "      <td>2016-02-14 00:03:32.750000128</td>\n",
       "      <td>2016-03-10 00:00:00</td>\n",
       "      <td>2016-03-17 00:00:00</td>\n",
       "      <td>2.000000</td>\n",
       "      <td>3.000000</td>\n",
       "      <td>66.000000</td>\n",
       "      <td>0.000000</td>\n",
       "      <td>0.000000</td>\n",
       "      <td>1.000000</td>\n",
       "    </tr>\n",
       "    <tr>\n",
       "      <th>50%</th>\n",
       "      <td>2016-03-18 15:36:42.500000</td>\n",
       "      <td>2016-03-21 15:16:36</td>\n",
       "      <td>2016-03-30 06:23:03</td>\n",
       "      <td>2016-04-03 15:11:32.500000</td>\n",
       "      <td>2016-06-11 00:00:00</td>\n",
       "      <td>2016-06-19 00:00:00</td>\n",
       "      <td>2.000000</td>\n",
       "      <td>5.000000</td>\n",
       "      <td>154.000000</td>\n",
       "      <td>3.000000</td>\n",
       "      <td>0.000000</td>\n",
       "      <td>21.000000</td>\n",
       "    </tr>\n",
       "    <tr>\n",
       "      <th>75%</th>\n",
       "      <td>2016-05-12 23:49:35.249999872</td>\n",
       "      <td>2016-05-14 22:29:16.500000</td>\n",
       "      <td>2016-05-19 04:37:48</td>\n",
       "      <td>2016-05-21 16:02:03.500000</td>\n",
       "      <td>2016-08-08 00:00:00</td>\n",
       "      <td>2016-08-16 00:00:00</td>\n",
       "      <td>4.000000</td>\n",
       "      <td>10.000000</td>\n",
       "      <td>269.000000</td>\n",
       "      <td>18.000000</td>\n",
       "      <td>1.000000</td>\n",
       "      <td>64.000000</td>\n",
       "    </tr>\n",
       "    <tr>\n",
       "      <th>max</th>\n",
       "      <td>2016-06-30 23:58:14</td>\n",
       "      <td>2017-02-23 08:56:59</td>\n",
       "      <td>2016-11-22 11:11:12</td>\n",
       "      <td>2016-09-21 21:55:48</td>\n",
       "      <td>2018-05-01 00:00:00</td>\n",
       "      <td>2018-05-04 00:00:00</td>\n",
       "      <td>16.000000</td>\n",
       "      <td>410.000000</td>\n",
       "      <td>2341.000000</td>\n",
       "      <td>268.000000</td>\n",
       "      <td>658.000000</td>\n",
       "      <td>1460.000000</td>\n",
       "    </tr>\n",
       "    <tr>\n",
       "      <th>std</th>\n",
       "      <td>NaN</td>\n",
       "      <td>NaN</td>\n",
       "      <td>NaN</td>\n",
       "      <td>NaN</td>\n",
       "      <td>NaN</td>\n",
       "      <td>NaN</td>\n",
       "      <td>1.880454</td>\n",
       "      <td>10.001379</td>\n",
       "      <td>183.521403</td>\n",
       "      <td>27.584648</td>\n",
       "      <td>30.814998</td>\n",
       "      <td>103.292835</td>\n",
       "    </tr>\n",
       "  </tbody>\n",
       "</table>\n",
       "</div>"
      ],
      "text/plain": [
       "                ts_interaction_first              ts_reply_at_first  \\\n",
       "count                          28468                          26379   \n",
       "mean   2016-03-23 01:29:44.049634560  2016-03-24 20:43:56.097956352   \n",
       "min              2016-01-01 00:46:47            2016-01-01 01:07:50   \n",
       "25%    2016-01-27 20:35:55.249999872     2016-01-29 14:17:11.500000   \n",
       "50%       2016-03-18 15:36:42.500000            2016-03-21 15:16:36   \n",
       "75%    2016-05-12 23:49:35.249999872     2016-05-14 22:29:16.500000   \n",
       "max              2016-06-30 23:58:14            2017-02-23 08:56:59   \n",
       "std                              NaN                            NaN   \n",
       "\n",
       "                ts_accepted_at_first                  ts_booking_at  \\\n",
       "count                          16667                          11738   \n",
       "mean   2016-03-30 13:03:26.720585472  2016-04-02 14:56:20.915914240   \n",
       "min              2016-01-01 12:24:15            2016-01-01 12:24:15   \n",
       "25%              2016-02-08 12:11:15  2016-02-14 00:03:32.750000128   \n",
       "50%              2016-03-30 06:23:03     2016-04-03 15:11:32.500000   \n",
       "75%              2016-05-19 04:37:48     2016-05-21 16:02:03.500000   \n",
       "max              2016-11-22 11:11:12            2016-09-21 21:55:48   \n",
       "std                              NaN                            NaN   \n",
       "\n",
       "                    ds_checkin_first              ds_checkout_first  \\\n",
       "count                          28468                          28468   \n",
       "mean   2016-05-31 13:20:46.873682688  2016-06-08 02:49:12.030349824   \n",
       "min              2016-01-01 00:00:00            2016-01-02 00:00:00   \n",
       "25%              2016-03-10 00:00:00            2016-03-17 00:00:00   \n",
       "50%              2016-06-11 00:00:00            2016-06-19 00:00:00   \n",
       "75%              2016-08-08 00:00:00            2016-08-16 00:00:00   \n",
       "max              2018-05-01 00:00:00            2018-05-04 00:00:00   \n",
       "std                              NaN                            NaN   \n",
       "\n",
       "           m_guests  m_interactions  m_first_message_length_in_characters  \\\n",
       "count  28467.000000    28468.000000                          28468.000000   \n",
       "mean       2.790354        8.226992                            193.938457   \n",
       "min        1.000000        1.000000                              0.000000   \n",
       "25%        2.000000        3.000000                             66.000000   \n",
       "50%        2.000000        5.000000                            154.000000   \n",
       "75%        4.000000       10.000000                            269.000000   \n",
       "max       16.000000      410.000000                           2341.000000   \n",
       "std        1.880454       10.001379                            183.521403   \n",
       "\n",
       "       total_reviews  guest_words_in_user_profile  host_words_in_user_profile  \n",
       "count   28468.000000                 28468.000000                28468.000000  \n",
       "mean       15.536286                    10.198363                   54.912568  \n",
       "min       -34.000000                     0.000000                    0.000000  \n",
       "25%         0.000000                     0.000000                    1.000000  \n",
       "50%         3.000000                     0.000000                   21.000000  \n",
       "75%        18.000000                     1.000000                   64.000000  \n",
       "max       268.000000                   658.000000                 1460.000000  \n",
       "std        27.584648                    30.814998                  103.292835  "
      ]
     },
     "metadata": {},
     "output_type": "display_data"
    }
   ],
   "source": [
    "# Show 5-point stats\n",
    "display(df_temp3.describe())\n",
    "\n",
    "# Drop invalid review values\n",
    "\n",
    "# rename final df\n",
    "df_airbnb = df_temp3.copy()"
   ]
  },
  {
   "cell_type": "code",
   "execution_count": 14,
   "metadata": {},
   "outputs": [
    {
     "data": {
      "text/html": [
       "<div>\n",
       "<style scoped>\n",
       "    .dataframe tbody tr th:only-of-type {\n",
       "        vertical-align: middle;\n",
       "    }\n",
       "\n",
       "    .dataframe tbody tr th {\n",
       "        vertical-align: top;\n",
       "    }\n",
       "\n",
       "    .dataframe thead th {\n",
       "        text-align: right;\n",
       "    }\n",
       "</style>\n",
       "<table border=\"1\" class=\"dataframe\">\n",
       "  <thead>\n",
       "    <tr style=\"text-align: right;\">\n",
       "      <th></th>\n",
       "      <th>ts_interaction_first</th>\n",
       "      <th>ts_reply_at_first</th>\n",
       "      <th>ts_accepted_at_first</th>\n",
       "      <th>ts_booking_at</th>\n",
       "      <th>ds_checkin_first</th>\n",
       "      <th>ds_checkout_first</th>\n",
       "      <th>m_guests</th>\n",
       "      <th>m_interactions</th>\n",
       "      <th>m_first_message_length_in_characters</th>\n",
       "      <th>total_reviews</th>\n",
       "      <th>guest_words_in_user_profile</th>\n",
       "      <th>host_words_in_user_profile</th>\n",
       "    </tr>\n",
       "  </thead>\n",
       "  <tbody>\n",
       "    <tr>\n",
       "      <th>count</th>\n",
       "      <td>28468</td>\n",
       "      <td>26379</td>\n",
       "      <td>16667</td>\n",
       "      <td>11738</td>\n",
       "      <td>28468</td>\n",
       "      <td>28468</td>\n",
       "      <td>28467.000000</td>\n",
       "      <td>28468.000000</td>\n",
       "      <td>28468.000000</td>\n",
       "      <td>28468.000000</td>\n",
       "      <td>28468.000000</td>\n",
       "      <td>28468.000000</td>\n",
       "    </tr>\n",
       "    <tr>\n",
       "      <th>mean</th>\n",
       "      <td>2016-03-23 01:29:44.049634560</td>\n",
       "      <td>2016-03-24 20:43:56.097956352</td>\n",
       "      <td>2016-03-30 13:03:26.720585472</td>\n",
       "      <td>2016-04-02 14:56:20.915914240</td>\n",
       "      <td>2016-05-31 13:20:46.873682688</td>\n",
       "      <td>2016-06-08 02:49:12.030349824</td>\n",
       "      <td>2.790354</td>\n",
       "      <td>8.226992</td>\n",
       "      <td>193.938457</td>\n",
       "      <td>15.536286</td>\n",
       "      <td>10.198363</td>\n",
       "      <td>54.912568</td>\n",
       "    </tr>\n",
       "    <tr>\n",
       "      <th>min</th>\n",
       "      <td>2016-01-01 00:46:47</td>\n",
       "      <td>2016-01-01 01:07:50</td>\n",
       "      <td>2016-01-01 12:24:15</td>\n",
       "      <td>2016-01-01 12:24:15</td>\n",
       "      <td>2016-01-01 00:00:00</td>\n",
       "      <td>2016-01-02 00:00:00</td>\n",
       "      <td>1.000000</td>\n",
       "      <td>1.000000</td>\n",
       "      <td>0.000000</td>\n",
       "      <td>-34.000000</td>\n",
       "      <td>0.000000</td>\n",
       "      <td>0.000000</td>\n",
       "    </tr>\n",
       "    <tr>\n",
       "      <th>25%</th>\n",
       "      <td>2016-01-27 20:35:55.249999872</td>\n",
       "      <td>2016-01-29 14:17:11.500000</td>\n",
       "      <td>2016-02-08 12:11:15</td>\n",
       "      <td>2016-02-14 00:03:32.750000128</td>\n",
       "      <td>2016-03-10 00:00:00</td>\n",
       "      <td>2016-03-17 00:00:00</td>\n",
       "      <td>2.000000</td>\n",
       "      <td>3.000000</td>\n",
       "      <td>66.000000</td>\n",
       "      <td>0.000000</td>\n",
       "      <td>0.000000</td>\n",
       "      <td>1.000000</td>\n",
       "    </tr>\n",
       "    <tr>\n",
       "      <th>50%</th>\n",
       "      <td>2016-03-18 15:36:42.500000</td>\n",
       "      <td>2016-03-21 15:16:36</td>\n",
       "      <td>2016-03-30 06:23:03</td>\n",
       "      <td>2016-04-03 15:11:32.500000</td>\n",
       "      <td>2016-06-11 00:00:00</td>\n",
       "      <td>2016-06-19 00:00:00</td>\n",
       "      <td>2.000000</td>\n",
       "      <td>5.000000</td>\n",
       "      <td>154.000000</td>\n",
       "      <td>3.000000</td>\n",
       "      <td>0.000000</td>\n",
       "      <td>21.000000</td>\n",
       "    </tr>\n",
       "    <tr>\n",
       "      <th>75%</th>\n",
       "      <td>2016-05-12 23:49:35.249999872</td>\n",
       "      <td>2016-05-14 22:29:16.500000</td>\n",
       "      <td>2016-05-19 04:37:48</td>\n",
       "      <td>2016-05-21 16:02:03.500000</td>\n",
       "      <td>2016-08-08 00:00:00</td>\n",
       "      <td>2016-08-16 00:00:00</td>\n",
       "      <td>4.000000</td>\n",
       "      <td>10.000000</td>\n",
       "      <td>269.000000</td>\n",
       "      <td>18.000000</td>\n",
       "      <td>1.000000</td>\n",
       "      <td>64.000000</td>\n",
       "    </tr>\n",
       "    <tr>\n",
       "      <th>max</th>\n",
       "      <td>2016-06-30 23:58:14</td>\n",
       "      <td>2017-02-23 08:56:59</td>\n",
       "      <td>2016-11-22 11:11:12</td>\n",
       "      <td>2016-09-21 21:55:48</td>\n",
       "      <td>2018-05-01 00:00:00</td>\n",
       "      <td>2018-05-04 00:00:00</td>\n",
       "      <td>16.000000</td>\n",
       "      <td>410.000000</td>\n",
       "      <td>2341.000000</td>\n",
       "      <td>268.000000</td>\n",
       "      <td>658.000000</td>\n",
       "      <td>1460.000000</td>\n",
       "    </tr>\n",
       "    <tr>\n",
       "      <th>std</th>\n",
       "      <td>NaN</td>\n",
       "      <td>NaN</td>\n",
       "      <td>NaN</td>\n",
       "      <td>NaN</td>\n",
       "      <td>NaN</td>\n",
       "      <td>NaN</td>\n",
       "      <td>1.880454</td>\n",
       "      <td>10.001379</td>\n",
       "      <td>183.521403</td>\n",
       "      <td>27.584648</td>\n",
       "      <td>30.814998</td>\n",
       "      <td>103.292835</td>\n",
       "    </tr>\n",
       "  </tbody>\n",
       "</table>\n",
       "</div>"
      ],
      "text/plain": [
       "                ts_interaction_first              ts_reply_at_first  \\\n",
       "count                          28468                          26379   \n",
       "mean   2016-03-23 01:29:44.049634560  2016-03-24 20:43:56.097956352   \n",
       "min              2016-01-01 00:46:47            2016-01-01 01:07:50   \n",
       "25%    2016-01-27 20:35:55.249999872     2016-01-29 14:17:11.500000   \n",
       "50%       2016-03-18 15:36:42.500000            2016-03-21 15:16:36   \n",
       "75%    2016-05-12 23:49:35.249999872     2016-05-14 22:29:16.500000   \n",
       "max              2016-06-30 23:58:14            2017-02-23 08:56:59   \n",
       "std                              NaN                            NaN   \n",
       "\n",
       "                ts_accepted_at_first                  ts_booking_at  \\\n",
       "count                          16667                          11738   \n",
       "mean   2016-03-30 13:03:26.720585472  2016-04-02 14:56:20.915914240   \n",
       "min              2016-01-01 12:24:15            2016-01-01 12:24:15   \n",
       "25%              2016-02-08 12:11:15  2016-02-14 00:03:32.750000128   \n",
       "50%              2016-03-30 06:23:03     2016-04-03 15:11:32.500000   \n",
       "75%              2016-05-19 04:37:48     2016-05-21 16:02:03.500000   \n",
       "max              2016-11-22 11:11:12            2016-09-21 21:55:48   \n",
       "std                              NaN                            NaN   \n",
       "\n",
       "                    ds_checkin_first              ds_checkout_first  \\\n",
       "count                          28468                          28468   \n",
       "mean   2016-05-31 13:20:46.873682688  2016-06-08 02:49:12.030349824   \n",
       "min              2016-01-01 00:00:00            2016-01-02 00:00:00   \n",
       "25%              2016-03-10 00:00:00            2016-03-17 00:00:00   \n",
       "50%              2016-06-11 00:00:00            2016-06-19 00:00:00   \n",
       "75%              2016-08-08 00:00:00            2016-08-16 00:00:00   \n",
       "max              2018-05-01 00:00:00            2018-05-04 00:00:00   \n",
       "std                              NaN                            NaN   \n",
       "\n",
       "           m_guests  m_interactions  m_first_message_length_in_characters  \\\n",
       "count  28467.000000    28468.000000                          28468.000000   \n",
       "mean       2.790354        8.226992                            193.938457   \n",
       "min        1.000000        1.000000                              0.000000   \n",
       "25%        2.000000        3.000000                             66.000000   \n",
       "50%        2.000000        5.000000                            154.000000   \n",
       "75%        4.000000       10.000000                            269.000000   \n",
       "max       16.000000      410.000000                           2341.000000   \n",
       "std        1.880454       10.001379                            183.521403   \n",
       "\n",
       "       total_reviews  guest_words_in_user_profile  host_words_in_user_profile  \n",
       "count   28468.000000                 28468.000000                28468.000000  \n",
       "mean       15.536286                    10.198363                   54.912568  \n",
       "min       -34.000000                     0.000000                    0.000000  \n",
       "25%         0.000000                     0.000000                    1.000000  \n",
       "50%         3.000000                     0.000000                   21.000000  \n",
       "75%        18.000000                     1.000000                   64.000000  \n",
       "max       268.000000                   658.000000                 1460.000000  \n",
       "std        27.584648                    30.814998                  103.292835  "
      ]
     },
     "execution_count": 14,
     "metadata": {},
     "output_type": "execute_result"
    }
   ],
   "source": [
    "df_airbnb.describe()"
   ]
  },
  {
   "cell_type": "markdown",
   "metadata": {},
   "source": [
    "## Feature Engineering"
   ]
  },
  {
   "cell_type": "markdown",
   "metadata": {},
   "source": [
    "Categorize succesful bookings"
   ]
  },
  {
   "cell_type": "code",
   "execution_count": 15,
   "metadata": {},
   "outputs": [],
   "source": [
    "# categorize succesful bookings\n",
    "#===============================\n",
    "\n",
    "# define new column , with default value\n",
    "df_airbnb['booked'] = False\n",
    "\n",
    "# if booked timestamp not null, set 'booked' true\n",
    "df_airbnb.loc[df_airbnb['ts_booking_at'].notnull(), 'booked'] = True\n"
   ]
  },
  {
   "cell_type": "markdown",
   "metadata": {},
   "source": [
    "Calculate time to book"
   ]
  },
  {
   "cell_type": "code",
   "execution_count": 16,
   "metadata": {},
   "outputs": [],
   "source": [
    "# calculate time to book (from 1st interaction)\n",
    "#===============================================\n",
    "\n",
    "# define column, with default value\n",
    "df_airbnb['booking_time'] = np.nan\n",
    "\n",
    "# calculate difference, (time of booking) - (time of 1st interaction)\n",
    "df_airbnb['booking_time'] = (df_airbnb[df_airbnb.booked == True].ts_booking_at \n",
    "                             - df_airbnb[df_airbnb.booked == True].ts_interaction_first).astype('timedelta64[s]')"
   ]
  },
  {
   "cell_type": "markdown",
   "metadata": {},
   "source": [
    "Calculate seasonal average booking rate per listing"
   ]
  },
  {
   "cell_type": "code",
   "execution_count": 17,
   "metadata": {},
   "outputs": [],
   "source": [
    "# calculate seasonal averages per listing\n",
    "#=========================================\n",
    "\n",
    "# function to get season at time of booking\n",
    "def get_season(timestamp):\n",
    "    month = timestamp.month\n",
    "    if month in [3, 4, 5]:\n",
    "        return 'Spring'\n",
    "    elif month in [6, 7, 8]:\n",
    "        return 'Summer'\n",
    "    elif month in [9, 10, 11]:\n",
    "        return 'Autumn'\n",
    "    else:\n",
    "        return 'Winter'\n",
    "\n",
    "# apply function\n",
    "df_airbnb['season'] = df_airbnb['ts_booking_at'].apply(get_season)"
   ]
  },
  {
   "cell_type": "code",
   "execution_count": 18,
   "metadata": {},
   "outputs": [],
   "source": [
    "# define columns to hold seasonal averages\n",
    "df_airbnb['Spring'] = np.nan\n",
    "df_airbnb['Summer'] = np.nan\n",
    "df_airbnb['Autumn'] = np.nan\n",
    "df_airbnb['Winter'] = np.nan\n",
    "df_airbnb['listing_bookings'] = 0.0"
   ]
  },
  {
   "cell_type": "code",
   "execution_count": 19,
   "metadata": {},
   "outputs": [],
   "source": [
    "# get averages for season per listing \n",
    "\n",
    "# for each 'listing'...\n",
    "for listing in df_airbnb.id_listing_anon.unique():\n",
    "    \n",
    "    # filter for listing\n",
    "    df_listing = df_airbnb.loc[df_airbnb.id_listing_anon == listing]\n",
    "\n",
    "    # calculate listing total bookings\n",
    "    listing_bookings = df_listing.booked.sum()\n",
    "    df_airbnb.loc[(df_airbnb.id_listing_anon == listing), 'listing_bookings'] = listing_bookings\n",
    "    \n",
    "    # get list of seasons for 'listing'\n",
    "    seasons = df_listing.season.unique()\n",
    "\n",
    "    # for each season...\n",
    "    for season in seasons:\n",
    "        \n",
    "        # calculate mean value\n",
    "        df_season = df_listing.loc[df_listing.season == season]\n",
    "        mean = df_season.booked.mean()\n",
    "        \n",
    "        # assign that value to that 'listing' and 'season'\n",
    "        df_airbnb.loc[(df_airbnb.id_listing_anon == listing), season] = mean"
   ]
  },
  {
   "cell_type": "code",
   "execution_count": 20,
   "metadata": {},
   "outputs": [],
   "source": [
    "# adequately rename seasonal average columns\n",
    "df_airbnb.rename(columns={'Spring': 'spring_av', \n",
    "                          'Summer': 'summer_av',\n",
    "                          'Autumn': 'autumn_av', \n",
    "                          'Winter': 'winter_av'},\n",
    "                          inplace=True)"
   ]
  },
  {
   "cell_type": "markdown",
   "metadata": {},
   "source": [
    "Calculate overall average booking rate per host "
   ]
  },
  {
   "cell_type": "code",
   "execution_count": 21,
   "metadata": {},
   "outputs": [],
   "source": [
    "# define column for host average\n",
    "df_airbnb['host_av'] = np.nan\n",
    "df_airbnb['num_listings'] = np.nan\n",
    "df_airbnb['host_bookings'] = 0.0"
   ]
  },
  {
   "cell_type": "code",
   "execution_count": 22,
   "metadata": {},
   "outputs": [],
   "source": [
    "# for each 'listing'...\n",
    "for host in df_airbnb.id_host_anon.unique():\n",
    "    \n",
    "    # filter df for host\n",
    "    df_temp = df_airbnb.loc[df_airbnb.id_host_anon == host]\n",
    "\n",
    "    # calculate booking rate, # of listings, and total bookings\n",
    "    host_mean = df_temp.booked.mean()\n",
    "    num_listings = df_temp.id_listing_anon.nunique()\n",
    "    host_tot_bookings = df_temp.booked.sum()\n",
    "\n",
    "    # assign values\n",
    "    df_airbnb.loc[df_airbnb.id_host_anon == host, 'host_av'] = host_mean\n",
    "    df_airbnb.loc[df_airbnb.id_host_anon == host, 'num_listings'] = num_listings\n",
    "    df_airbnb.loc[df_airbnb.id_host_anon == host, 'host_bookings'] = host_tot_bookings"
   ]
  },
  {
   "cell_type": "code",
   "execution_count": 23,
   "metadata": {},
   "outputs": [
    {
     "data": {
      "text/html": [
       "<div>\n",
       "<style scoped>\n",
       "    .dataframe tbody tr th:only-of-type {\n",
       "        vertical-align: middle;\n",
       "    }\n",
       "\n",
       "    .dataframe tbody tr th {\n",
       "        vertical-align: top;\n",
       "    }\n",
       "\n",
       "    .dataframe thead th {\n",
       "        text-align: right;\n",
       "    }\n",
       "</style>\n",
       "<table border=\"1\" class=\"dataframe\">\n",
       "  <thead>\n",
       "    <tr style=\"text-align: right;\">\n",
       "      <th></th>\n",
       "      <th>id_guest_anon</th>\n",
       "      <th>id_host_anon</th>\n",
       "      <th>id_listing_anon</th>\n",
       "      <th>ts_interaction_first</th>\n",
       "      <th>ts_reply_at_first</th>\n",
       "      <th>ts_accepted_at_first</th>\n",
       "      <th>ts_booking_at</th>\n",
       "      <th>ds_checkin_first</th>\n",
       "      <th>ds_checkout_first</th>\n",
       "      <th>m_guests</th>\n",
       "      <th>...</th>\n",
       "      <th>booking_time</th>\n",
       "      <th>season</th>\n",
       "      <th>spring_av</th>\n",
       "      <th>summer_av</th>\n",
       "      <th>autumn_av</th>\n",
       "      <th>winter_av</th>\n",
       "      <th>listing_bookings</th>\n",
       "      <th>host_av</th>\n",
       "      <th>num_listings</th>\n",
       "      <th>host_bookings</th>\n",
       "    </tr>\n",
       "  </thead>\n",
       "  <tbody>\n",
       "    <tr>\n",
       "      <th>0</th>\n",
       "      <td>da8656a1-51af-4f38-b1c4-94be1f585157</td>\n",
       "      <td>5426897d-960d-4013-9e38-606ae746793c</td>\n",
       "      <td>a408a8b2-0d44-4513-a611-3736d0409bb2</td>\n",
       "      <td>2016-04-21 02:55:53</td>\n",
       "      <td>2016-04-21 03:15:00</td>\n",
       "      <td>2016-04-21 03:15:00</td>\n",
       "      <td>2016-04-21 03:15:00</td>\n",
       "      <td>2016-08-02</td>\n",
       "      <td>2016-08-06</td>\n",
       "      <td>4.0</td>\n",
       "      <td>...</td>\n",
       "      <td>0 days 00:19:07</td>\n",
       "      <td>Spring</td>\n",
       "      <td>1.0</td>\n",
       "      <td>NaN</td>\n",
       "      <td>NaN</td>\n",
       "      <td>0.000</td>\n",
       "      <td>1.0</td>\n",
       "      <td>0.333333</td>\n",
       "      <td>2.0</td>\n",
       "      <td>2.0</td>\n",
       "    </tr>\n",
       "    <tr>\n",
       "      <th>1</th>\n",
       "      <td>8590d6f1-8bc9-4e8b-bdfb-de78f69fcf37</td>\n",
       "      <td>f30417c5-6df4-45ac-bfc2-6ad1cce398ab</td>\n",
       "      <td>e387c705-0aeb-464c-9375-ece63be6f006</td>\n",
       "      <td>2016-02-16 22:14:01</td>\n",
       "      <td>2016-02-16 23:37:36</td>\n",
       "      <td>NaT</td>\n",
       "      <td>NaT</td>\n",
       "      <td>2016-08-11</td>\n",
       "      <td>2016-08-22</td>\n",
       "      <td>5.0</td>\n",
       "      <td>...</td>\n",
       "      <td>NaT</td>\n",
       "      <td>Winter</td>\n",
       "      <td>NaN</td>\n",
       "      <td>NaN</td>\n",
       "      <td>NaN</td>\n",
       "      <td>0.000</td>\n",
       "      <td>0.0</td>\n",
       "      <td>0.000000</td>\n",
       "      <td>1.0</td>\n",
       "      <td>0.0</td>\n",
       "    </tr>\n",
       "    <tr>\n",
       "      <th>2</th>\n",
       "      <td>ebcd83ba-bda1-47eb-9680-2dd04ccf3988</td>\n",
       "      <td>13cbf50a-3272-45d4-9866-a06b6ea1b99a</td>\n",
       "      <td>d1eb1960-938f-4305-a353-51e224414dd4</td>\n",
       "      <td>2016-01-27 23:33:38</td>\n",
       "      <td>2016-01-28 02:12:47</td>\n",
       "      <td>NaT</td>\n",
       "      <td>NaT</td>\n",
       "      <td>2016-03-14</td>\n",
       "      <td>2016-03-23</td>\n",
       "      <td>1.0</td>\n",
       "      <td>...</td>\n",
       "      <td>NaT</td>\n",
       "      <td>Winter</td>\n",
       "      <td>1.0</td>\n",
       "      <td>NaN</td>\n",
       "      <td>NaN</td>\n",
       "      <td>0.375</td>\n",
       "      <td>4.0</td>\n",
       "      <td>0.444444</td>\n",
       "      <td>1.0</td>\n",
       "      <td>4.0</td>\n",
       "    </tr>\n",
       "  </tbody>\n",
       "</table>\n",
       "<p>3 rows × 32 columns</p>\n",
       "</div>"
      ],
      "text/plain": [
       "                          id_guest_anon                          id_host_anon  \\\n",
       "0  da8656a1-51af-4f38-b1c4-94be1f585157  5426897d-960d-4013-9e38-606ae746793c   \n",
       "1  8590d6f1-8bc9-4e8b-bdfb-de78f69fcf37  f30417c5-6df4-45ac-bfc2-6ad1cce398ab   \n",
       "2  ebcd83ba-bda1-47eb-9680-2dd04ccf3988  13cbf50a-3272-45d4-9866-a06b6ea1b99a   \n",
       "\n",
       "                        id_listing_anon ts_interaction_first  \\\n",
       "0  a408a8b2-0d44-4513-a611-3736d0409bb2  2016-04-21 02:55:53   \n",
       "1  e387c705-0aeb-464c-9375-ece63be6f006  2016-02-16 22:14:01   \n",
       "2  d1eb1960-938f-4305-a353-51e224414dd4  2016-01-27 23:33:38   \n",
       "\n",
       "    ts_reply_at_first ts_accepted_at_first       ts_booking_at  \\\n",
       "0 2016-04-21 03:15:00  2016-04-21 03:15:00 2016-04-21 03:15:00   \n",
       "1 2016-02-16 23:37:36                  NaT                 NaT   \n",
       "2 2016-01-28 02:12:47                  NaT                 NaT   \n",
       "\n",
       "  ds_checkin_first ds_checkout_first  m_guests  ...    booking_time  season  \\\n",
       "0       2016-08-02        2016-08-06       4.0  ... 0 days 00:19:07  Spring   \n",
       "1       2016-08-11        2016-08-22       5.0  ...             NaT  Winter   \n",
       "2       2016-03-14        2016-03-23       1.0  ...             NaT  Winter   \n",
       "\n",
       "  spring_av summer_av autumn_av winter_av  listing_bookings   host_av  \\\n",
       "0       1.0       NaN       NaN     0.000               1.0  0.333333   \n",
       "1       NaN       NaN       NaN     0.000               0.0  0.000000   \n",
       "2       1.0       NaN       NaN     0.375               4.0  0.444444   \n",
       "\n",
       "   num_listings host_bookings  \n",
       "0           2.0           2.0  \n",
       "1           1.0           0.0  \n",
       "2           1.0           4.0  \n",
       "\n",
       "[3 rows x 32 columns]"
      ]
     },
     "execution_count": 23,
     "metadata": {},
     "output_type": "execute_result"
    }
   ],
   "source": [
    "df_airbnb.head(3)"
   ]
  },
  {
   "cell_type": "markdown",
   "metadata": {},
   "source": [
    "## EDA"
   ]
  },
  {
   "cell_type": "code",
   "execution_count": 24,
   "metadata": {},
   "outputs": [
    {
     "data": {
      "image/png": "[encoded data removed]",
      "text/plain": [
       "<Figure size 640x480 with 1 Axes>"
      ]
     },
     "metadata": {},
     "output_type": "display_data"
    },
    {
     "name": "stdout",
     "output_type": "stream",
     "text": [
      "Season is Autumn, Summary Stats\n",
      "--------------------------------\n",
      "count    0.0\n",
      "mean     NaN\n",
      "std      NaN\n",
      "min      NaN\n",
      "25%      NaN\n",
      "50%      NaN\n",
      "75%      NaN\n",
      "max      NaN\n",
      "Name: m_guests, dtype: float64\n",
      "\n",
      "Season is Spring, Summary Stats\n",
      "--------------------------------\n",
      "count    5548.000000\n",
      "mean        2.500901\n",
      "std         1.530944\n",
      "min         1.000000\n",
      "25%         2.000000\n",
      "50%         2.000000\n",
      "75%         3.000000\n",
      "max        15.000000\n",
      "Name: m_guests, dtype: float64\n",
      "\n",
      "Season is Summer, Summary Stats\n",
      "----------------------------------\n",
      "count    2224.000000\n",
      "mean        2.527428\n",
      "std         1.570122\n",
      "min         1.000000\n",
      "25%         2.000000\n",
      "50%         2.000000\n",
      "75%         3.000000\n",
      "max        16.000000\n",
      "Name: m_guests, dtype: float64\n",
      "\n",
      "Season is Winter, Summary Stats\n",
      "--------------------------------\n",
      "count    3965.000000\n",
      "mean        2.488272\n",
      "std         1.566287\n",
      "min         1.000000\n",
      "25%         1.000000\n",
      "50%         2.000000\n",
      "75%         3.000000\n",
      "max        13.000000\n",
      "Name: m_guests, dtype: float64\n"
     ]
    }
   ],
   "source": [
    "# filter for booked rows\n",
    "df_booked = df_airbnb.loc[df_airbnb.booked == True]\n",
    "df_seasons = df_booked.loc[df_airbnb.season != 'Autumn']\n",
    "df_seasons.boxplot(column='m_guests', by='season', grid=True, \n",
    "                          xlabel='Season', ylabel='# of Guests')\n",
    "plt.title('Seasonal Guest Size')\n",
    "plt.tight_layout()\n",
    "plt.show()\n",
    "\n",
    "print('Season is Autumn, Summary Stats')\n",
    "print('--------------------------------')\n",
    "print(df_seasons.loc[df_seasons.season=='Autumn', 'm_guests'].describe())\n",
    "\n",
    "print('\\nSeason is Spring, Summary Stats')\n",
    "print('--------------------------------')\n",
    "print(df_seasons.loc[df_seasons.season=='Spring', 'm_guests'].describe())\n",
    "\n",
    "print('\\nSeason is Summer, Summary Stats')\n",
    "print('----------------------------------')\n",
    "print(df_seasons.loc[df_seasons.season=='Summer', 'm_guests'].describe())\n",
    "\n",
    "print('\\nSeason is Winter, Summary Stats')\n",
    "print('--------------------------------')\n",
    "print(df_seasons.loc[df_seasons.season=='Winter', 'm_guests'].describe())"
   ]
  },
  {
   "cell_type": "markdown",
   "metadata": {},
   "source": [
    "- Spring and Winter have the most bookings; 5549 and 3966, respectively.\n",
    "- Spring, Summer, and Winter have similar mean and std for 'm_guests'; 2.5 and 1.5, respectively."
   ]
  },
  {
   "cell_type": "code",
   "execution_count": 25,
   "metadata": {},
   "outputs": [],
   "source": [
    "from matplotlib import rc\n",
    "\n",
    "rc('text', usetex=True)"
   ]
  },
  {
   "cell_type": "code",
   "execution_count": 26,
   "metadata": {},
   "outputs": [],
   "source": [
    "import matplotlib as mpl\n",
    "mpl.rcParams.update(mpl.rcParamsDefault)"
   ]
  },
  {
   "cell_type": "code",
   "execution_count": 27,
   "metadata": {},
   "outputs": [
    {
     "data": {
      "image/png": "[encoded data removed]",
      "text/plain": [
       "<Figure size 640x480 with 2 Axes>"
      ]
     },
     "metadata": {},
     "output_type": "display_data"
    },
    {
     "name": "stdout",
     "output_type": "stream",
     "text": [
      "Booked is True, Summary Stats\n",
      "------------------------------\n",
      "count    11738.000000\n",
      "mean        13.169194\n",
      "std         12.618507\n",
      "min          2.000000\n",
      "25%          6.000000\n",
      "50%         10.000000\n",
      "75%         17.000000\n",
      "max        410.000000\n",
      "Name: m_interactions, dtype: float64\n",
      "\n",
      "Booked is False, Summary Stats\n",
      "-------------------------------\n",
      "count    16730.000000\n",
      "mean         4.759474\n",
      "std          5.416372\n",
      "min          1.000000\n",
      "25%          2.000000\n",
      "50%          3.000000\n",
      "75%          5.000000\n",
      "max        153.000000\n",
      "Name: m_interactions, dtype: float64\n"
     ]
    }
   ],
   "source": [
    "# filter data for subplots\n",
    "data1 = df_airbnb.loc[(df_airbnb.m_interactions < 40) & (df_airbnb.booked == False)]\n",
    "data2 = df_airbnb.loc[(df_airbnb.m_interactions < 40) & (df_airbnb.booked == True)]\n",
    "\n",
    "# create subplots and axes objects\n",
    "fig, axes = plt.subplots(nrows=2, ncols=1, sharex=True, sharey=True)\n",
    "\n",
    "# plot histograms on each subplot with different colors\n",
    "data1['m_interactions'].plot.hist(ax=axes[0], bins=30, color='#ac3939', grid=True)\n",
    "data2['m_interactions'].plot.hist(ax=axes[1], bins=30, color='#23812d', grid=True)\n",
    "\n",
    "# clean up plot\n",
    "axes[0].set_xlim(0, 40)\n",
    "axes[0].set_ylim(0, 7000)\n",
    "\n",
    "axes[0].set_ylabel('Count')\n",
    "axes[1].set_ylabel('Count')\n",
    "\n",
    "axes[1].set_xlabel('# of interactions')\n",
    "axes[0].set_facecolor('whitesmoke')\n",
    "axes[1].set_facecolor('whitesmoke')\n",
    "\n",
    "axes[0].set_title('Not booked')\n",
    "axes[1].set_title('Booked')\n",
    "\n",
    "axes[0].legend([\"interaction\"], shadow=True)\n",
    "axes[1].legend([\"interaction\"], shadow=True)\n",
    "\n",
    "plt.suptitle('Booking success in host-guest interaction', fontsize=14)\n",
    "plt.tight_layout()\n",
    "plt.savefig('images/host-guest-interaction.png', dpi=450)\n",
    "plt.show()\n",
    "\n",
    "print('Booked is True, Summary Stats')\n",
    "print('------------------------------')\n",
    "print(df_airbnb.loc[df_airbnb.booked==True, 'm_interactions'].describe())\n",
    "print('\\nBooked is False, Summary Stats')\n",
    "print('-------------------------------')\n",
    "print(df_airbnb.loc[df_airbnb.booked==False, 'm_interactions'].describe())\n"
   ]
  },
  {
   "cell_type": "markdown",
   "metadata": {},
   "source": [
    "There are more messages between host and guest for successful bookings than non-successful bookings."
   ]
  },
  {
   "cell_type": "code",
   "execution_count": 79,
   "metadata": {},
   "outputs": [
    {
     "data": {
      "text/plain": [
       "(np.float64(0.5901097718295205),\n",
       " -50.42515215679978,\n",
       " np.float64(226.96015621073133))"
      ]
     },
     "execution_count": 79,
     "metadata": {},
     "output_type": "execute_result"
    }
   ],
   "source": [
    "params"
   ]
  },
  {
   "cell_type": "code",
   "execution_count": 67,
   "metadata": {},
   "outputs": [
    {
     "data": {
      "image/png": "[encoded data removed]",
      "text/plain": [
       "<Figure size 640x480 with 1 Axes>"
      ]
     },
     "metadata": {},
     "output_type": "display_data"
    }
   ],
   "source": [
    "import scipy.stats as stats\n",
    "\n",
    "# Fit a lognormal distribution\n",
    "params = stats.lognorm.fit(fit_data)\n",
    "\n",
    "# Get the fitted distribution\n",
    "dist = stats.lognorm(*params)\n",
    "\n",
    "plt.show()"
   ]
  },
  {
   "cell_type": "code",
   "execution_count": 89,
   "metadata": {},
   "outputs": [],
   "source": [
    "ydata, bins = np.histogram(fit_data, bins=30)"
   ]
  },
  {
   "cell_type": "code",
   "execution_count": 138,
   "metadata": {},
   "outputs": [
    {
     "data": {
      "text/plain": [
       "float"
      ]
     },
     "execution_count": 138,
     "metadata": {},
     "output_type": "execute_result"
    }
   ],
   "source": [
    "type(xdata[0])\n",
    "# bins"
   ]
  },
  {
   "cell_type": "code",
   "execution_count": 137,
   "metadata": {},
   "outputs": [],
   "source": [
    "xdata = []\n",
    "for i in range(len(bins) - 1):\n",
    "    # get center of bins\n",
    "    center = ((bins[i] + bins[i+1])/2.0).item()\n",
    "    # add center to list\n",
    "    xdata.append(center)"
   ]
  },
  {
   "cell_type": "code",
   "execution_count": 94,
   "metadata": {},
   "outputs": [],
   "source": [
    "# fitfunc = lambda A, mu, sigma, x: (A/(x*sigma*np.sqrt(2*np.pi)))*np.exp(-0.5*(np.log(x)-mu)/sigma/sigma)\n",
    "# errfunc = lambda A, mu, sigma, x, y: (y - fitfunc(A, mu, sigma, x))"
   ]
  },
  {
   "cell_type": "code",
   "execution_count": 144,
   "metadata": {},
   "outputs": [],
   "source": [
    "fitfunc = lambda a, x: (a[0]/(np.array(x)*a[1]*np.sqrt(2*np.pi)))*np.exp(-0.5*(np.log(np.array(x))-a[2]) / (a[1]**2))\n",
    "errfunc = lambda a, x, y: (y - fitfunc(a, x))\n"
   ]
  },
  {
   "cell_type": "code",
   "execution_count": 145,
   "metadata": {},
   "outputs": [],
   "source": [
    "from scipy.optimize import leastsq\n",
    "\n",
    "init = [530000.0, 160.0, 210.0]\n",
    "out = leastsq(errfunc, init, args=(xdata, ydata))\n",
    "coeff = out[0]"
   ]
  },
  {
   "cell_type": "code",
   "execution_count": 146,
   "metadata": {},
   "outputs": [
    {
     "data": {
      "text/plain": [
       "array([8.71714084e+07, 1.06600403e+03, 2.94330828e+05])"
      ]
     },
     "execution_count": 146,
     "metadata": {},
     "output_type": "execute_result"
    }
   ],
   "source": [
    "coeff"
   ]
  },
  {
   "cell_type": "code",
   "execution_count": 97,
   "metadata": {},
   "outputs": [],
   "source": [
    "# get data for fit line\n",
    "good_data = data1.loc[(data1.m_first_message_length_in_characters > 0)]\n",
    "fit_data = good_data['m_first_message_length_in_characters']\n",
    "\n",
    "# Fit a normal distribution to the data\n",
    "mu, sigma = np.mean(fit_data), np.std(fit_data)\n",
    "\n",
    "# Generate x-values for the fitted distribution\n",
    "x = np.linspace(min(fit_data), max(fit_data), 100)\n",
    "\n",
    "# Calculate the y-values for the fitted distribution\n",
    "y = 1 / (sigma * np.sqrt(2 * np.pi)) * np.exp(-(x - mu)**2 / (2 * sigma**2))"
   ]
  },
  {
   "cell_type": "code",
   "execution_count": 61,
   "metadata": {},
   "outputs": [
    {
     "name": "stdout",
     "output_type": "stream",
     "text": [
      "218.82127059426887 164.99252590609424\n"
     ]
    }
   ],
   "source": [
    "print(mu, sigma)"
   ]
  },
  {
   "cell_type": "code",
   "execution_count": 78,
   "metadata": {},
   "outputs": [
    {
     "data": {
      "image/png": "[encoded data removed]",
      "text/plain": [
       "<Figure size 640x480 with 1 Axes>"
      ]
     },
     "metadata": {},
     "output_type": "display_data"
    }
   ],
   "source": [
    "good_data['m_first_message_length_in_characters'].hist(bins=30, color='#ac3939', grid=True)\n",
    "plt.plot(x, 530000*dist.pdf(x), 'g-', linewidth=2)\n",
    "plt.show()"
   ]
  },
  {
   "cell_type": "code",
   "execution_count": 42,
   "metadata": {},
   "outputs": [
    {
     "data": {
      "image/png": "[encoded data removed]",
      "text/plain": [
       "<Figure size 640x480 with 1 Axes>"
      ]
     },
     "metadata": {},
     "output_type": "display_data"
    }
   ],
   "source": [
    "\n"
   ]
  },
  {
   "cell_type": "code",
   "execution_count": 36,
   "metadata": {},
   "outputs": [
    {
     "data": {
      "image/png": "[encoded data removed]",
      "text/plain": [
       "<Figure size 640x480 with 2 Axes>"
      ]
     },
     "metadata": {},
     "output_type": "display_data"
    },
    {
     "name": "stdout",
     "output_type": "stream",
     "text": [
      "Booked is True, Summary Stats\n",
      "------------------------------\n",
      "count    11738.000000\n",
      "mean       170.485858\n",
      "std        179.654189\n",
      "min          0.000000\n",
      "25%         21.000000\n",
      "50%        134.000000\n",
      "75%        249.000000\n",
      "max       2341.000000\n",
      "Name: m_first_message_length_in_characters, dtype: float64\n",
      "\n",
      "Booked is False, Summary Stats\n",
      "-------------------------------\n",
      "count    16730.000000\n",
      "mean       210.393126\n",
      "std        184.420157\n",
      "min          0.000000\n",
      "25%         88.000000\n",
      "50%        166.000000\n",
      "75%        281.000000\n",
      "max       1948.000000\n",
      "Name: m_first_message_length_in_characters, dtype: float64\n"
     ]
    }
   ],
   "source": [
    "# filter data for subplots\n",
    "data1 = df_airbnb.loc[(df_airbnb.m_first_message_length_in_characters <= 1000) & (df_airbnb.booked == False)]\n",
    "data2 = df_airbnb.loc[(df_airbnb.m_first_message_length_in_characters <= 1000) & (df_airbnb.booked == True)]\n",
    "\n",
    "# FIT LINE-------------------------------------------------------------------\n",
    "# get data for fit line\n",
    "good_data = data1.loc[(data1.m_first_message_length_in_characters > 34)]\n",
    "fit_data = good_data['m_first_message_length_in_characters']\n",
    "\n",
    "# Fit a normal distribution to the data\n",
    "mu, sigma = np.mean(fit_data), np.std(fit_data)\n",
    "\n",
    "# Generate x-values for the fitted distribution\n",
    "x = np.linspace(min(fit_data), max(fit_data), 100)\n",
    "\n",
    "# Calculate the y-values for the fitted distribution\n",
    "y = 1 / (sigma * np.sqrt(2 * np.pi)) * np.exp(-(x - mu)**2 / (2 * sigma**2))\n",
    "#----------------------------------------------------------------------------\n",
    "\n",
    "# create subplots and axes objects\n",
    "fig, axes = plt.subplots(nrows=2, ncols=1, sharex=True, sharey=True)\n",
    "\n",
    "# plot histograms on each subplot with different colors\n",
    "data1['m_first_message_length_in_characters'].plot.hist(ax=axes[0], bins=30, color='#ac3939', grid=True)\n",
    "data2['m_first_message_length_in_characters'].plot.hist(ax=axes[1], bins=30, color='#23812d', grid=True)\n",
    "\n",
    "# plot fit line \n",
    "plt.plot(x, y, color='red')\n",
    "\n",
    "# clean up plot\n",
    "axes[0].set_xlim(0, 1000)\n",
    "axes[0].set_ylim(0, 4500)\n",
    "\n",
    "axes[0].set_ylabel('Count')\n",
    "axes[1].set_ylabel('Count')\n",
    "\n",
    "axes[1].set_xlabel('Length in characters')\n",
    "axes[0].set_facecolor('whitesmoke')\n",
    "axes[1].set_facecolor('whitesmoke')\n",
    "\n",
    "axes[0].set_title('Not booked')\n",
    "axes[1].set_title('Booked')\n",
    "\n",
    "axes[0].legend([\"First message length\"], shadow=True)\n",
    "axes[1].legend([\"First message length\"], shadow=True)\n",
    "\n",
    "plt.suptitle('Booking success in host-guest first message length', fontsize=14)\n",
    "plt.tight_layout()\n",
    "plt.savefig('images/host-guest-first-message-length.png', dpi=450)\n",
    "plt.show()\n",
    "\n",
    "\n",
    "print('Booked is True, Summary Stats')\n",
    "print('------------------------------')\n",
    "print(df_airbnb.loc[df_airbnb.booked==True, 'm_first_message_length_in_characters'].describe())\n",
    "print('\\nBooked is False, Summary Stats')\n",
    "print('-------------------------------')\n",
    "print(df_airbnb.loc[df_airbnb.booked==False, 'm_first_message_length_in_characters'].describe())"
   ]
  },
  {
   "cell_type": "markdown",
   "metadata": {},
   "source": [
    "There are shorter first interaction messages for successful bookings, than unsuccessful bookings. "
   ]
  },
  {
   "cell_type": "code",
   "execution_count": 78,
   "metadata": {},
   "outputs": [
    {
     "data": {
      "image/png": "[encoded data removed]",
      "text/plain": [
       "<Figure size 640x480 with 2 Axes>"
      ]
     },
     "metadata": {},
     "output_type": "display_data"
    }
   ],
   "source": [
    "# filter data for subplots\n",
    "data1 = df_airbnb.loc[(df_airbnb.total_reviews > 0) & (df_airbnb.total_reviews < 120) & (df_airbnb.booked == False)]\n",
    "data2 = df_airbnb.loc[(df_airbnb.total_reviews > 0) & (df_airbnb.total_reviews < 120) & (df_airbnb.booked == True)]\n",
    "\n",
    "# create subplots and axes objects\n",
    "fig, axes = plt.subplots(nrows=2, ncols=1, sharex=True, sharey=True)\n",
    "\n",
    "# plot histograms on each subplot with different colors\n",
    "data1['total_reviews'].plot.hist(ax=axes[0], bins=30, color='#ac3939', grid=True)\n",
    "data2['total_reviews'].plot.hist(ax=axes[1], bins=30, color='#23812d', grid=True)\n",
    "\n",
    "# clean up plot\n",
    "axes[0].set_xlim(0, 127)\n",
    "axes[0].set_ylim(0, 6400)\n",
    "\n",
    "axes[0].set_ylabel('Count')\n",
    "axes[1].set_ylabel('Count')\n",
    "\n",
    "axes[1].set_xlabel('# of reviews')\n",
    "axes[0].set_facecolor('whitesmoke')\n",
    "axes[1].set_facecolor('whitesmoke')\n",
    "\n",
    "axes[0].set_title('Not booked')\n",
    "axes[1].set_title('Booked')\n",
    "\n",
    "axes[0].legend([\"total reviews\"], shadow=True)\n",
    "axes[1].legend([\"total reviews\"], shadow=True)\n",
    "\n",
    "plt.suptitle('Booking success in total host reviews', fontsize=14)\n",
    "plt.tight_layout()\n",
    "plt.savefig('images/host-total-reviews.png', dpi=450)\n",
    "plt.show()"
   ]
  },
  {
   "cell_type": "markdown",
   "metadata": {},
   "source": [
    "Listings with higher number of reviews tend to be booked more. Perhaps, the more reviews a listing has the more likely someone is to book with it."
   ]
  },
  {
   "cell_type": "code",
   "execution_count": 79,
   "metadata": {},
   "outputs": [],
   "source": [
    "df_airbnb['booking_time_hrs'] = df_airbnb['booking_time'] / np.timedelta64(1, 'm') / 1440"
   ]
  },
  {
   "cell_type": "code",
   "execution_count": 80,
   "metadata": {},
   "outputs": [
    {
     "data": {
      "image/png": "[encoded data removed]",
      "text/plain": [
       "<Figure size 640x480 with 1 Axes>"
      ]
     },
     "metadata": {},
     "output_type": "display_data"
    }
   ],
   "source": [
    "# filter for booking time between 15 minutes and 8 hrs. (to get a good visual on distrubtion)\n",
    "df_booking_time = df_airbnb[(df_airbnb['booking_time_hrs'] < 8) \n",
    "                            & (df_airbnb['booking_time_hrs'] > 0.25) \n",
    "                            & (df_airbnb['contact_channel_first'] != 'instant_book')]\n",
    "\n",
    "# plot histograms on each subplot with different colors\n",
    "ax = df_booking_time['booking_time_hrs'].plot.hist(bins=35, color='#6a3ba3', grid=True)\n",
    "\n",
    "# clean up plot\n",
    "ax.set_xlim(0, 8.5)\n",
    "ax.set_ylim(0, 580)\n",
    "\n",
    "ax.set_ylabel('Count')\n",
    "\n",
    "ax.set_xlabel('Hours')\n",
    "ax.set_facecolor('whitesmoke')\n",
    "\n",
    "ax.legend(['Booking time'], shadow=True)\n",
    "# axes[1].legend([\"total reviews\"], shadow=True)\n",
    "\n",
    "plt.suptitle('Time to Book after Inquiry', fontsize=14)\n",
    "plt.tight_layout()\n",
    "plt.savefig('images/time-to-book.png', dpi=450)\n",
    "plt.show()\n"
   ]
  },
  {
   "cell_type": "markdown",
   "metadata": {},
   "source": [
    "Most bookings tend to occur within the first 2 to 3 hrs of guest messaging the host. "
   ]
  },
  {
   "cell_type": "code",
   "execution_count": 122,
   "metadata": {},
   "outputs": [
    {
     "data": {
      "text/html": [
       "<div>\n",
       "<style scoped>\n",
       "    .dataframe tbody tr th:only-of-type {\n",
       "        vertical-align: middle;\n",
       "    }\n",
       "\n",
       "    .dataframe tbody tr th {\n",
       "        vertical-align: top;\n",
       "    }\n",
       "\n",
       "    .dataframe thead th {\n",
       "        text-align: right;\n",
       "    }\n",
       "</style>\n",
       "<table border=\"1\" class=\"dataframe\">\n",
       "  <thead>\n",
       "    <tr style=\"text-align: right;\">\n",
       "      <th></th>\n",
       "      <th>Listing Neighborhood</th>\n",
       "      <th>Count</th>\n",
       "    </tr>\n",
       "  </thead>\n",
       "  <tbody>\n",
       "    <tr>\n",
       "      <th>0</th>\n",
       "      <td>-unknown-</td>\n",
       "      <td>4346</td>\n",
       "    </tr>\n",
       "    <tr>\n",
       "      <th>1</th>\n",
       "      <td>Copacabana</td>\n",
       "      <td>2928</td>\n",
       "    </tr>\n",
       "    <tr>\n",
       "      <th>2</th>\n",
       "      <td>Ipanema</td>\n",
       "      <td>1457</td>\n",
       "    </tr>\n",
       "    <tr>\n",
       "      <th>3</th>\n",
       "      <td>Leblon</td>\n",
       "      <td>478</td>\n",
       "    </tr>\n",
       "    <tr>\n",
       "      <th>4</th>\n",
       "      <td>Barra da Tijuca</td>\n",
       "      <td>367</td>\n",
       "    </tr>\n",
       "    <tr>\n",
       "      <th>5</th>\n",
       "      <td>Santa Teresa</td>\n",
       "      <td>361</td>\n",
       "    </tr>\n",
       "  </tbody>\n",
       "</table>\n",
       "</div>"
      ],
      "text/plain": [
       "  Listing Neighborhood  Count\n",
       "0            -unknown-   4346\n",
       "1           Copacabana   2928\n",
       "2              Ipanema   1457\n",
       "3               Leblon    478\n",
       "4      Barra da Tijuca    367\n",
       "5         Santa Teresa    361"
      ]
     },
     "execution_count": 122,
     "metadata": {},
     "output_type": "execute_result"
    }
   ],
   "source": [
    "df_booked = df_airbnb.loc[df_airbnb.booked == True]\n",
    "df_booked.listing_neighborhood.value_counts() \\\n",
    "                              .rename_axis('Listing Neighborhood') \\\n",
    "                              .reset_index(name='Count') \\\n",
    "                              .head(6)"
   ]
  },
  {
   "cell_type": "markdown",
   "metadata": {},
   "source": [
    "The top 5 most popular neighboorhoods in Brazil are Copacabana, Ipanema, Leblon, Barra da Tijuca, and Santa Teresa.   \n"
   ]
  },
  {
   "cell_type": "code",
   "execution_count": 117,
   "metadata": {},
   "outputs": [
    {
     "data": {
      "text/html": [
       "<div>\n",
       "<style scoped>\n",
       "    .dataframe tbody tr th:only-of-type {\n",
       "        vertical-align: middle;\n",
       "    }\n",
       "\n",
       "    .dataframe tbody tr th {\n",
       "        vertical-align: top;\n",
       "    }\n",
       "\n",
       "    .dataframe thead th {\n",
       "        text-align: right;\n",
       "    }\n",
       "</style>\n",
       "<table border=\"1\" class=\"dataframe\">\n",
       "  <thead>\n",
       "    <tr style=\"text-align: right;\">\n",
       "      <th></th>\n",
       "      <th>Guest Country</th>\n",
       "      <th>Count</th>\n",
       "    </tr>\n",
       "  </thead>\n",
       "  <tbody>\n",
       "    <tr>\n",
       "      <th>0</th>\n",
       "      <td>BR</td>\n",
       "      <td>4281</td>\n",
       "    </tr>\n",
       "    <tr>\n",
       "      <th>1</th>\n",
       "      <td>US</td>\n",
       "      <td>2031</td>\n",
       "    </tr>\n",
       "    <tr>\n",
       "      <th>2</th>\n",
       "      <td>FR</td>\n",
       "      <td>791</td>\n",
       "    </tr>\n",
       "    <tr>\n",
       "      <th>3</th>\n",
       "      <td>AR</td>\n",
       "      <td>711</td>\n",
       "    </tr>\n",
       "    <tr>\n",
       "      <th>4</th>\n",
       "      <td>GB</td>\n",
       "      <td>692</td>\n",
       "    </tr>\n",
       "  </tbody>\n",
       "</table>\n",
       "</div>"
      ],
      "text/plain": [
       "  Guest Country  Count\n",
       "0            BR   4281\n",
       "1            US   2031\n",
       "2            FR    791\n",
       "3            AR    711\n",
       "4            GB    692"
      ]
     },
     "execution_count": 117,
     "metadata": {},
     "output_type": "execute_result"
    }
   ],
   "source": [
    "df_booked.guest_country.value_counts() \\\n",
    "                       .rename_axis('Guest Country') \\\n",
    "                       .reset_index(name='Count') \\\n",
    "                       .head(5)"
   ]
  },
  {
   "cell_type": "markdown",
   "metadata": {},
   "source": [
    "The top 5 countries where guests come from are Brazil (locals), United States, France, Argentina, and United Kingdom."
   ]
  },
  {
   "cell_type": "code",
   "execution_count": 118,
   "metadata": {},
   "outputs": [
    {
     "data": {
      "text/html": [
       "<div>\n",
       "<style scoped>\n",
       "    .dataframe tbody tr th:only-of-type {\n",
       "        vertical-align: middle;\n",
       "    }\n",
       "\n",
       "    .dataframe tbody tr th {\n",
       "        vertical-align: top;\n",
       "    }\n",
       "\n",
       "    .dataframe thead th {\n",
       "        text-align: right;\n",
       "    }\n",
       "</style>\n",
       "<table border=\"1\" class=\"dataframe\">\n",
       "  <thead>\n",
       "    <tr style=\"text-align: right;\">\n",
       "      <th></th>\n",
       "      <th>Contact Channel</th>\n",
       "      <th>Count</th>\n",
       "    </tr>\n",
       "  </thead>\n",
       "  <tbody>\n",
       "    <tr>\n",
       "      <th>0</th>\n",
       "      <td>instant_book</td>\n",
       "      <td>6755</td>\n",
       "    </tr>\n",
       "    <tr>\n",
       "      <th>1</th>\n",
       "      <td>book_it</td>\n",
       "      <td>4054</td>\n",
       "    </tr>\n",
       "    <tr>\n",
       "      <th>2</th>\n",
       "      <td>contact_me</td>\n",
       "      <td>929</td>\n",
       "    </tr>\n",
       "  </tbody>\n",
       "</table>\n",
       "</div>"
      ],
      "text/plain": [
       "  Contact Channel  Count\n",
       "0    instant_book   6755\n",
       "1         book_it   4054\n",
       "2      contact_me    929"
      ]
     },
     "execution_count": 118,
     "metadata": {},
     "output_type": "execute_result"
    }
   ],
   "source": [
    "df_booked.contact_channel_first.value_counts() \\\n",
    "                               .rename_axis('Contact Channel') \\\n",
    "                               .reset_index(name='Count') \\\n",
    "                               .head(5)"
   ]
  },
  {
   "cell_type": "markdown",
   "metadata": {},
   "source": [
    "Opt-ing in to 'instant book' looks to have better outlook on successful bookings."
   ]
  },
  {
   "cell_type": "code",
   "execution_count": 119,
   "metadata": {},
   "outputs": [
    {
     "data": {
      "text/html": [
       "<div>\n",
       "<style scoped>\n",
       "    .dataframe tbody tr th:only-of-type {\n",
       "        vertical-align: middle;\n",
       "    }\n",
       "\n",
       "    .dataframe tbody tr th {\n",
       "        vertical-align: top;\n",
       "    }\n",
       "\n",
       "    .dataframe thead th {\n",
       "        text-align: right;\n",
       "    }\n",
       "</style>\n",
       "<table border=\"1\" class=\"dataframe\">\n",
       "  <thead>\n",
       "    <tr style=\"text-align: right;\">\n",
       "      <th></th>\n",
       "      <th>Room Type</th>\n",
       "      <th>Count</th>\n",
       "    </tr>\n",
       "  </thead>\n",
       "  <tbody>\n",
       "    <tr>\n",
       "      <th>0</th>\n",
       "      <td>Entire home/apt</td>\n",
       "      <td>8542</td>\n",
       "    </tr>\n",
       "    <tr>\n",
       "      <th>1</th>\n",
       "      <td>Private room</td>\n",
       "      <td>2999</td>\n",
       "    </tr>\n",
       "    <tr>\n",
       "      <th>2</th>\n",
       "      <td>Shared room</td>\n",
       "      <td>197</td>\n",
       "    </tr>\n",
       "  </tbody>\n",
       "</table>\n",
       "</div>"
      ],
      "text/plain": [
       "         Room Type  Count\n",
       "0  Entire home/apt   8542\n",
       "1     Private room   2999\n",
       "2      Shared room    197"
      ]
     },
     "execution_count": 119,
     "metadata": {},
     "output_type": "execute_result"
    }
   ],
   "source": [
    "df_booked.room_type.value_counts() \\\n",
    "                   .rename_axis('Room Type') \\\n",
    "                   .reset_index(name='Count') \\\n",
    "                   .head(5)"
   ]
  },
  {
   "cell_type": "markdown",
   "metadata": {},
   "source": [
    "Entire home or apartment have a significantly better booking results than private rooms (3x more) and shared rooms. It appears it is more common for someone to book an entire residence than a single room."
   ]
  },
  {
   "cell_type": "code",
   "execution_count": 120,
   "metadata": {},
   "outputs": [
    {
     "data": {
      "text/html": [
       "<div>\n",
       "<style scoped>\n",
       "    .dataframe tbody tr th:only-of-type {\n",
       "        vertical-align: middle;\n",
       "    }\n",
       "\n",
       "    .dataframe tbody tr th {\n",
       "        vertical-align: top;\n",
       "    }\n",
       "\n",
       "    .dataframe thead th {\n",
       "        text-align: right;\n",
       "    }\n",
       "</style>\n",
       "<table border=\"1\" class=\"dataframe\">\n",
       "  <thead>\n",
       "    <tr style=\"text-align: right;\">\n",
       "      <th></th>\n",
       "      <th>Guest User Stage</th>\n",
       "      <th>Count</th>\n",
       "    </tr>\n",
       "  </thead>\n",
       "  <tbody>\n",
       "    <tr>\n",
       "      <th>0</th>\n",
       "      <td>past_booker</td>\n",
       "      <td>6372</td>\n",
       "    </tr>\n",
       "    <tr>\n",
       "      <th>1</th>\n",
       "      <td>new</td>\n",
       "      <td>5352</td>\n",
       "    </tr>\n",
       "    <tr>\n",
       "      <th>2</th>\n",
       "      <td>-unknown-</td>\n",
       "      <td>14</td>\n",
       "    </tr>\n",
       "  </tbody>\n",
       "</table>\n",
       "</div>"
      ],
      "text/plain": [
       "  Guest User Stage  Count\n",
       "0      past_booker   6372\n",
       "1              new   5352\n",
       "2        -unknown-     14"
      ]
     },
     "execution_count": 120,
     "metadata": {},
     "output_type": "execute_result"
    }
   ],
   "source": [
    "df_booked.guest_user_stage_first.value_counts() \\\n",
    "                                .rename_axis('Guest User Stage') \\\n",
    "                                .reset_index(name='Count') \\\n",
    "                                .head(5)"
   ]
  },
  {
   "cell_type": "code",
   "execution_count": 99,
   "metadata": {},
   "outputs": [
    {
     "data": {
      "text/plain": [
       "0.1905473566224547"
      ]
     },
     "execution_count": 99,
     "metadata": {},
     "output_type": "execute_result"
    }
   ],
   "source": [
    "(6373-5353)/5353"
   ]
  },
  {
   "cell_type": "markdown",
   "metadata": {},
   "source": [
    "The are about 20% more bookings by past bookers than new bookers."
   ]
  },
  {
   "cell_type": "code",
   "execution_count": null,
   "metadata": {},
   "outputs": [],
   "source": []
  },
  {
   "cell_type": "code",
   "execution_count": 100,
   "metadata": {},
   "outputs": [],
   "source": [
    "pd.set_option('display.max_columns', None)"
   ]
  },
  {
   "cell_type": "code",
   "execution_count": null,
   "metadata": {},
   "outputs": [
    {
     "data": {
      "text/html": [
       "<div>\n",
       "<style scoped>\n",
       "    .dataframe tbody tr th:only-of-type {\n",
       "        vertical-align: middle;\n",
       "    }\n",
       "\n",
       "    .dataframe tbody tr th {\n",
       "        vertical-align: top;\n",
       "    }\n",
       "\n",
       "    .dataframe thead th {\n",
       "        text-align: right;\n",
       "    }\n",
       "</style>\n",
       "<table border=\"1\" class=\"dataframe\">\n",
       "  <thead>\n",
       "    <tr style=\"text-align: right;\">\n",
       "      <th></th>\n",
       "      <th>id_guest_anon</th>\n",
       "      <th>id_host_anon</th>\n",
       "      <th>id_listing_anon</th>\n",
       "      <th>ts_interaction_first</th>\n",
       "      <th>ts_reply_at_first</th>\n",
       "      <th>ts_accepted_at_first</th>\n",
       "      <th>ts_booking_at</th>\n",
       "      <th>ds_checkin_first</th>\n",
       "      <th>ds_checkout_first</th>\n",
       "      <th>m_guests</th>\n",
       "      <th>m_interactions</th>\n",
       "      <th>m_first_message_length_in_characters</th>\n",
       "      <th>contact_channel_first</th>\n",
       "      <th>guest_user_stage_first</th>\n",
       "      <th>room_type</th>\n",
       "      <th>listing_neighborhood</th>\n",
       "      <th>total_reviews</th>\n",
       "      <th>guest_country</th>\n",
       "      <th>guest_words_in_user_profile</th>\n",
       "      <th>host_country</th>\n",
       "      <th>host_words_in_user_profile</th>\n",
       "      <th>booked</th>\n",
       "      <th>booking_time</th>\n",
       "      <th>season</th>\n",
       "      <th>spring_av</th>\n",
       "      <th>summer_av</th>\n",
       "      <th>autumn_av</th>\n",
       "      <th>winter_av</th>\n",
       "      <th>listing_bookings</th>\n",
       "      <th>host_av</th>\n",
       "      <th>num_listings</th>\n",
       "      <th>host_bookings</th>\n",
       "      <th>booking_time_hrs</th>\n",
       "    </tr>\n",
       "  </thead>\n",
       "  <tbody>\n",
       "    <tr>\n",
       "      <th>115</th>\n",
       "      <td>225c2590-e0c1-48e7-af60-bab995605d2d</td>\n",
       "      <td>617ae029-6a46-4137-92dd-66e8d567e55f</td>\n",
       "      <td>12e7e554-bad1-44e1-8a13-135cdb8d03f6</td>\n",
       "      <td>2016-06-17 17:17:41</td>\n",
       "      <td>2016-06-17 20:57:59</td>\n",
       "      <td>2016-06-17 20:58:04</td>\n",
       "      <td>2016-06-17 20:58:04</td>\n",
       "      <td>2016-08-02</td>\n",
       "      <td>2016-08-04</td>\n",
       "      <td>4.0</td>\n",
       "      <td>23</td>\n",
       "      <td>267.0</td>\n",
       "      <td>book_it</td>\n",
       "      <td>past_booker</td>\n",
       "      <td>Entire home/apt</td>\n",
       "      <td>Leblon</td>\n",
       "      <td>9.0</td>\n",
       "      <td>BE</td>\n",
       "      <td>0</td>\n",
       "      <td>BR</td>\n",
       "      <td>1</td>\n",
       "      <td>True</td>\n",
       "      <td>0 days 03:40:23</td>\n",
       "      <td>Summer</td>\n",
       "      <td>1.0</td>\n",
       "      <td>1.0</td>\n",
       "      <td>NaN</td>\n",
       "      <td>0.0</td>\n",
       "      <td>5.0</td>\n",
       "      <td>0.786408</td>\n",
       "      <td>11.0</td>\n",
       "      <td>81.0</td>\n",
       "      <td>0.153044</td>\n",
       "    </tr>\n",
       "    <tr>\n",
       "      <th>591</th>\n",
       "      <td>ac5abec7-c0f7-48b2-82a6-e02588e7b051</td>\n",
       "      <td>617ae029-6a46-4137-92dd-66e8d567e55f</td>\n",
       "      <td>35c33ee6-85eb-4778-8d9f-3a62e109d947</td>\n",
       "      <td>2016-05-18 02:25:07</td>\n",
       "      <td>2016-05-18 02:30:54</td>\n",
       "      <td>2016-05-18 02:30:54</td>\n",
       "      <td>2016-05-18 02:30:54</td>\n",
       "      <td>2016-05-21</td>\n",
       "      <td>2016-05-26</td>\n",
       "      <td>3.0</td>\n",
       "      <td>13</td>\n",
       "      <td>86.0</td>\n",
       "      <td>instant_book</td>\n",
       "      <td>past_booker</td>\n",
       "      <td>Entire home/apt</td>\n",
       "      <td>Copacabana</td>\n",
       "      <td>15.0</td>\n",
       "      <td>AT</td>\n",
       "      <td>0</td>\n",
       "      <td>BR</td>\n",
       "      <td>1</td>\n",
       "      <td>True</td>\n",
       "      <td>0 days 00:05:47</td>\n",
       "      <td>Spring</td>\n",
       "      <td>1.0</td>\n",
       "      <td>1.0</td>\n",
       "      <td>NaN</td>\n",
       "      <td>0.0</td>\n",
       "      <td>9.0</td>\n",
       "      <td>0.786408</td>\n",
       "      <td>11.0</td>\n",
       "      <td>81.0</td>\n",
       "      <td>0.004016</td>\n",
       "    </tr>\n",
       "    <tr>\n",
       "      <th>1571</th>\n",
       "      <td>a3ac1839-e444-489d-a633-44ad95fef8c3</td>\n",
       "      <td>617ae029-6a46-4137-92dd-66e8d567e55f</td>\n",
       "      <td>6237b424-e01f-4462-bd3b-ceb7fb3a0d04</td>\n",
       "      <td>2016-01-12 18:14:14</td>\n",
       "      <td>2016-01-12 18:29:49</td>\n",
       "      <td>2016-01-12 18:29:49</td>\n",
       "      <td>2016-01-12 18:29:49</td>\n",
       "      <td>2016-08-05</td>\n",
       "      <td>2016-08-13</td>\n",
       "      <td>2.0</td>\n",
       "      <td>18</td>\n",
       "      <td>417.0</td>\n",
       "      <td>instant_book</td>\n",
       "      <td>past_booker</td>\n",
       "      <td>Entire home/apt</td>\n",
       "      <td>Copacabana</td>\n",
       "      <td>12.0</td>\n",
       "      <td>GB</td>\n",
       "      <td>0</td>\n",
       "      <td>BR</td>\n",
       "      <td>1</td>\n",
       "      <td>True</td>\n",
       "      <td>0 days 00:15:35</td>\n",
       "      <td>Winter</td>\n",
       "      <td>1.0</td>\n",
       "      <td>1.0</td>\n",
       "      <td>NaN</td>\n",
       "      <td>0.6</td>\n",
       "      <td>6.0</td>\n",
       "      <td>0.786408</td>\n",
       "      <td>11.0</td>\n",
       "      <td>81.0</td>\n",
       "      <td>0.010822</td>\n",
       "    </tr>\n",
       "  </tbody>\n",
       "</table>\n",
       "</div>"
      ],
      "text/plain": [
       "                             id_guest_anon  \\\n",
       "115   225c2590-e0c1-48e7-af60-bab995605d2d   \n",
       "591   ac5abec7-c0f7-48b2-82a6-e02588e7b051   \n",
       "1571  a3ac1839-e444-489d-a633-44ad95fef8c3   \n",
       "\n",
       "                              id_host_anon  \\\n",
       "115   617ae029-6a46-4137-92dd-66e8d567e55f   \n",
       "591   617ae029-6a46-4137-92dd-66e8d567e55f   \n",
       "1571  617ae029-6a46-4137-92dd-66e8d567e55f   \n",
       "\n",
       "                           id_listing_anon ts_interaction_first  \\\n",
       "115   12e7e554-bad1-44e1-8a13-135cdb8d03f6  2016-06-17 17:17:41   \n",
       "591   35c33ee6-85eb-4778-8d9f-3a62e109d947  2016-05-18 02:25:07   \n",
       "1571  6237b424-e01f-4462-bd3b-ceb7fb3a0d04  2016-01-12 18:14:14   \n",
       "\n",
       "       ts_reply_at_first ts_accepted_at_first       ts_booking_at  \\\n",
       "115  2016-06-17 20:57:59  2016-06-17 20:58:04 2016-06-17 20:58:04   \n",
       "591  2016-05-18 02:30:54  2016-05-18 02:30:54 2016-05-18 02:30:54   \n",
       "1571 2016-01-12 18:29:49  2016-01-12 18:29:49 2016-01-12 18:29:49   \n",
       "\n",
       "     ds_checkin_first ds_checkout_first  m_guests  m_interactions  \\\n",
       "115        2016-08-02        2016-08-04       4.0              23   \n",
       "591        2016-05-21        2016-05-26       3.0              13   \n",
       "1571       2016-08-05        2016-08-13       2.0              18   \n",
       "\n",
       "      m_first_message_length_in_characters contact_channel_first  \\\n",
       "115                                  267.0               book_it   \n",
       "591                                   86.0          instant_book   \n",
       "1571                                 417.0          instant_book   \n",
       "\n",
       "     guest_user_stage_first        room_type listing_neighborhood  \\\n",
       "115             past_booker  Entire home/apt               Leblon   \n",
       "591             past_booker  Entire home/apt           Copacabana   \n",
       "1571            past_booker  Entire home/apt           Copacabana   \n",
       "\n",
       "      total_reviews guest_country  guest_words_in_user_profile host_country  \\\n",
       "115             9.0            BE                            0           BR   \n",
       "591            15.0            AT                            0           BR   \n",
       "1571           12.0            GB                            0           BR   \n",
       "\n",
       "      host_words_in_user_profile  booked    booking_time  season  spring_av  \\\n",
       "115                            1    True 0 days 03:40:23  Summer        1.0   \n",
       "591                            1    True 0 days 00:05:47  Spring        1.0   \n",
       "1571                           1    True 0 days 00:15:35  Winter        1.0   \n",
       "\n",
       "      summer_av  autumn_av  winter_av  listing_bookings   host_av  \\\n",
       "115         1.0        NaN        0.0               5.0  0.786408   \n",
       "591         1.0        NaN        0.0               9.0  0.786408   \n",
       "1571        1.0        NaN        0.6               6.0  0.786408   \n",
       "\n",
       "      num_listings  host_bookings  booking_time_hrs  \n",
       "115           11.0           81.0          0.153044  \n",
       "591           11.0           81.0          0.004016  \n",
       "1571          11.0           81.0          0.010822  "
      ]
     },
     "metadata": {},
     "output_type": "display_data"
    }
   ],
   "source": [
    "display(df_airbnb.loc[df_airbnb.booked == True].sort_values(by=['host_bookings', 'host_av'], ascending=False).head(3))\n"
   ]
  },
  {
   "cell_type": "markdown",
   "metadata": {},
   "source": [
    "Possible metrics to monitor team's efforts to improve host-guest matching:\n",
    "- Time to book (host and guest average booking time per season)\n",
    "- Host's booking average (succesful bookings over all bookings) per season\n",
    "- Host's new bookers over all bookers count per season (newcomer rate)\n",
    "- Host's past bookers over all bookers count per season (return rate)\n",
    "- Total reviews over total bookings changes over time\n",
    "- Count of instant books, book it, or contact me over time\n",
    "\n"
   ]
  },
  {
   "cell_type": "markdown",
   "metadata": {},
   "source": []
  }
 ],
 "metadata": {
  "kernelspec": {
   "display_name": "airbnb-env",
   "language": "python",
   "name": "python3"
  },
  "language_info": {
   "codemirror_mode": {
    "name": "ipython",
    "version": 3
   },
   "file_extension": ".py",
   "mimetype": "text/x-python",
   "name": "python",
   "nbconvert_exporter": "python",
   "pygments_lexer": "ipython3",
   "version": "3.12.0"
  }
 },
 "nbformat": 4,
 "nbformat_minor": 2
}
